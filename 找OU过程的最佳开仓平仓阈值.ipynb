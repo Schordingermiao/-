{
 "cells": [
  {
   "cell_type": "markdown",
   "id": "de6324f6",
   "metadata": {},
   "source": [
    "https://hudsonthames.org/optimal-trading-thresholds-for-the-o-u-process/"
   ]
  },
  {
   "cell_type": "code",
   "execution_count": 1,
   "id": "7941251e",
   "metadata": {},
   "outputs": [],
   "source": [
    "import math"
   ]
  },
  {
   "cell_type": "code",
   "execution_count": 20,
   "id": "fa8a2763",
   "metadata": {},
   "outputs": [],
   "source": [
    "def one_co(k,x):\n",
    "    \n",
    "    alist=[]\n",
    "    a=3*x+5#随便设置的\n",
    "    c=0#随便设置的\n",
    "    for k in range(1,k):\n",
    "        tem_func=1/2*math.gamma((2*k+1)/2)*((math.sqrt(2)*x)**(2*k+1)/math.factorial(2*k+1))\\\n",
    "        -(a-c)*math.sqrt(2)/2*math.gamma(2*k/2)*((math.sqrt(2)*x)**(2*k)/math.factorial(2*k+1))\n",
    "        alist.append(tem_func)\n",
    "    return sum(alist)"
   ]
  },
  {
   "cell_type": "code",
   "execution_count": null,
   "id": "71a6b51d",
   "metadata": {},
   "outputs": [],
   "source": [
    "from sympy import *\n",
    "x = symbols('x')\n",
    "solve(one_co(99,x) , x)"
   ]
  },
  {
   "cell_type": "code",
   "execution_count": 27,
   "id": "aa87101f",
   "metadata": {},
   "outputs": [
    {
     "data": {
      "text/plain": [
       "9.367802114655995e+154"
      ]
     },
     "execution_count": 27,
     "metadata": {},
     "output_type": "execute_result"
    }
   ],
   "source": [
    "k=99\n",
    "math.gamma((2*k+1)/2)"
   ]
  },
  {
   "cell_type": "code",
   "execution_count": null,
   "id": "60975e8d",
   "metadata": {},
   "outputs": [],
   "source": [
    "def two_co(k,x):\n",
    "    \n",
    "    alist=[]\n",
    "    a=3*x+5#随便设置的\n",
    "    c=0#随便设置的\n",
    "    for k in range(1,k):\n",
    "        tem_func=1/2*math.gamma((2*k+1)/2)*((math.sqrt(2)*x)**(2*k+1)/math.factorial(2*k+1))\\\n",
    "        -(a-c/2)*math.sqrt(2)/2*math.gamma(2*k/2)*((math.sqrt(2)*x)**(2*k)/math.factorial(2*k+1))\n",
    "        alist.append(tem_func)\n",
    "    return sum(alist)"
   ]
  }
 ],
 "metadata": {
  "kernelspec": {
   "display_name": "Python 3 (ipykernel)",
   "language": "python",
   "name": "python3"
  },
  "language_info": {
   "codemirror_mode": {
    "name": "ipython",
    "version": 3
   },
   "file_extension": ".py",
   "mimetype": "text/x-python",
   "name": "python",
   "nbconvert_exporter": "python",
   "pygments_lexer": "ipython3",
   "version": "3.8.8"
  }
 },
 "nbformat": 4,
 "nbformat_minor": 5
}
