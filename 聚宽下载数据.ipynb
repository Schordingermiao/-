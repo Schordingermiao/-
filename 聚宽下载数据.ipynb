{
 "cells": [
  {
   "cell_type": "code",
   "execution_count": 1,
   "id": "e392ec64",
   "metadata": {},
   "outputs": [
    {
     "name": "stdout",
     "output_type": "stream",
     "text": [
      "auth success \n"
     ]
    }
   ],
   "source": [
    "from jqdatasdk import *\n",
    "auth('18664522405','8sedei2Ng')"
   ]
  },
  {
   "cell_type": "code",
   "execution_count": 2,
   "id": "39060a78",
   "metadata": {},
   "outputs": [
    {
     "ename": "KeyboardInterrupt",
     "evalue": "",
     "output_type": "error",
     "traceback": [
      "\u001b[1;31m---------------------------------------------------------------------------\u001b[0m",
      "\u001b[1;31mKeyboardInterrupt\u001b[0m                         Traceback (most recent call last)",
      "Cell \u001b[1;32mIn[2], line 28\u001b[0m\n\u001b[0;32m     26\u001b[0m \u001b[38;5;28;01mfor\u001b[39;00m futures \u001b[38;5;129;01min\u001b[39;00m unique_class:\n\u001b[0;32m     27\u001b[0m     ct\u001b[38;5;241m=\u001b[39m\u001b[38;5;241m0\u001b[39m\n\u001b[1;32m---> 28\u001b[0m     futures_df\u001b[38;5;241m=\u001b[39m\u001b[43mget_price\u001b[49m\u001b[43m(\u001b[49m\u001b[43mfutures\u001b[49m\u001b[43m,\u001b[49m\u001b[43m \u001b[49m\u001b[43mstart_date\u001b[49m\u001b[43m \u001b[49m\u001b[38;5;241;43m=\u001b[39;49m\u001b[43m \u001b[49m\u001b[43mSD\u001b[49m\u001b[43m,\u001b[49m\u001b[43m \u001b[49m\u001b[43mend_date\u001b[49m\u001b[38;5;241;43m=\u001b[39;49m\u001b[43mED\u001b[49m\u001b[43m,\u001b[49m\u001b[43m \u001b[49m\u001b[43mfrequency\u001b[49m\u001b[38;5;241;43m=\u001b[39;49m\u001b[38;5;124;43m'\u001b[39;49m\u001b[38;5;124;43m1m\u001b[39;49m\u001b[38;5;124;43m'\u001b[39;49m\u001b[43m,\u001b[49m\u001b[43m \u001b[49m\u001b[43mfields\u001b[49m\u001b[38;5;241;43m=\u001b[39;49m\u001b[43m \u001b[49m\u001b[38;5;28;43mtype\u001b[39;49m\u001b[43m,\u001b[49m\u001b[43m \u001b[49m\u001b[43mfq\u001b[49m\u001b[38;5;241;43m=\u001b[39;49m\u001b[38;5;124;43m'\u001b[39;49m\u001b[38;5;124;43mnone\u001b[39;49m\u001b[38;5;124;43m'\u001b[39;49m\u001b[43m)\u001b[49m\n\u001b[0;32m     30\u001b[0m     \u001b[38;5;28;01mfor\u001b[39;00m \u001b[38;5;28mmin\u001b[39m \u001b[38;5;129;01min\u001b[39;00m futures_df\u001b[38;5;241m.\u001b[39mindex:\n\u001b[0;32m     31\u001b[0m         \u001b[38;5;28;01mif\u001b[39;00m \u001b[38;5;124m\"\u001b[39m\u001b[38;5;124m2023-10-27\u001b[39m\u001b[38;5;124m\"\u001b[39m \u001b[38;5;129;01min\u001b[39;00m \u001b[38;5;28mstr\u001b[39m(\u001b[38;5;28mmin\u001b[39m):\n",
      "File \u001b[1;32m~\\anaconda3\\lib\\site-packages\\jqdatasdk\\utils.py:350\u001b[0m, in \u001b[0;36massert_auth.<locals>._wrapper\u001b[1;34m(*args, **kwargs)\u001b[0m\n\u001b[0;32m    348\u001b[0m     \u001b[38;5;28;01mraise\u001b[39;00m \u001b[38;5;167;01mException\u001b[39;00m(\u001b[38;5;124m\"\u001b[39m\u001b[38;5;124mPlease run jqdatasdk.auth first\u001b[39m\u001b[38;5;124m\"\u001b[39m)\n\u001b[0;32m    349\u001b[0m \u001b[38;5;28;01melse\u001b[39;00m:\n\u001b[1;32m--> 350\u001b[0m     \u001b[38;5;28;01mreturn\u001b[39;00m \u001b[43mfunc\u001b[49m\u001b[43m(\u001b[49m\u001b[38;5;241;43m*\u001b[39;49m\u001b[43margs\u001b[49m\u001b[43m,\u001b[49m\u001b[43m \u001b[49m\u001b[38;5;241;43m*\u001b[39;49m\u001b[38;5;241;43m*\u001b[39;49m\u001b[43mkwargs\u001b[49m\u001b[43m)\u001b[49m\n",
      "File \u001b[1;32m~\\anaconda3\\lib\\site-packages\\jqdatasdk\\api.py:39\u001b[0m, in \u001b[0;36mget_price\u001b[1;34m(security, start_date, end_date, frequency, fields, skip_paused, fq, count, panel, fill_paused, round)\u001b[0m\n\u001b[0;32m     37\u001b[0m \u001b[38;5;28;01mif\u001b[39;00m count \u001b[38;5;129;01mand\u001b[39;00m start_date:\n\u001b[0;32m     38\u001b[0m     \u001b[38;5;28;01mraise\u001b[39;00m ParamsError(\u001b[38;5;124m\"\u001b[39m\u001b[38;5;124m(start_date, count) only one param is required\u001b[39m\u001b[38;5;124m\"\u001b[39m)\n\u001b[1;32m---> 39\u001b[0m \u001b[38;5;28;01mreturn\u001b[39;00m \u001b[43mJQDataClient\u001b[49m\u001b[38;5;241;43m.\u001b[39;49m\u001b[43minstance\u001b[49m\u001b[43m(\u001b[49m\u001b[43m)\u001b[49m\u001b[38;5;241;43m.\u001b[39;49m\u001b[43mget_price\u001b[49m\u001b[43m(\u001b[49m\u001b[38;5;241;43m*\u001b[39;49m\u001b[38;5;241;43m*\u001b[39;49m\u001b[38;5;28;43mlocals\u001b[39;49m\u001b[43m(\u001b[49m\u001b[43m)\u001b[49m\u001b[43m)\u001b[49m\n",
      "File \u001b[1;32m~\\anaconda3\\lib\\site-packages\\jqdatasdk\\client.py:372\u001b[0m, in \u001b[0;36mJQDataClient.__getattr__.<locals>.<lambda>\u001b[1;34m(**kwargs)\u001b[0m\n\u001b[0;32m    371\u001b[0m \u001b[38;5;28;01mdef\u001b[39;00m \u001b[38;5;21m__getattr__\u001b[39m(\u001b[38;5;28mself\u001b[39m, method):\n\u001b[1;32m--> 372\u001b[0m     \u001b[38;5;28;01mreturn\u001b[39;00m \u001b[38;5;28;01mlambda\u001b[39;00m \u001b[38;5;241m*\u001b[39m\u001b[38;5;241m*\u001b[39mkwargs: \u001b[38;5;28;43mself\u001b[39;49m\u001b[43m(\u001b[49m\u001b[43mmethod\u001b[49m\u001b[43m,\u001b[49m\u001b[43m \u001b[49m\u001b[38;5;241;43m*\u001b[39;49m\u001b[38;5;241;43m*\u001b[39;49m\u001b[43mkwargs\u001b[49m\u001b[43m)\u001b[49m\n",
      "File \u001b[1;32m~\\anaconda3\\lib\\site-packages\\jqdatasdk\\client.py:356\u001b[0m, in \u001b[0;36mJQDataClient.__call__\u001b[1;34m(self, method, **kwargs)\u001b[0m\n\u001b[0;32m    354\u001b[0m \u001b[38;5;28;01mfor\u001b[39;00m _ \u001b[38;5;129;01min\u001b[39;00m \u001b[38;5;28mrange\u001b[39m(\u001b[38;5;28mself\u001b[39m\u001b[38;5;241m.\u001b[39mrequest_attempt_count):\n\u001b[0;32m    355\u001b[0m     \u001b[38;5;28;01mtry\u001b[39;00m:\n\u001b[1;32m--> 356\u001b[0m         result \u001b[38;5;241m=\u001b[39m \u001b[38;5;28;43mself\u001b[39;49m\u001b[38;5;241;43m.\u001b[39;49m\u001b[43mquery\u001b[49m\u001b[43m(\u001b[49m\u001b[43mmethod\u001b[49m\u001b[43m,\u001b[49m\u001b[43m \u001b[49m\u001b[43mkwargs\u001b[49m\u001b[43m)\u001b[49m\n\u001b[0;32m    357\u001b[0m         \u001b[38;5;28;01mbreak\u001b[39;00m\n\u001b[0;32m    358\u001b[0m     \u001b[38;5;28;01mexcept\u001b[39;00m socket_error \u001b[38;5;28;01mas\u001b[39;00m ex:\n",
      "File \u001b[1;32m~\\anaconda3\\lib\\site-packages\\jqdatasdk\\client.py:262\u001b[0m, in \u001b[0;36mJQDataClient.query\u001b[1;34m(self, method, params)\u001b[0m\n\u001b[0;32m    260\u001b[0m \u001b[38;5;28;01mtry\u001b[39;00m:\n\u001b[0;32m    261\u001b[0m     \u001b[38;5;28mself\u001b[39m\u001b[38;5;241m.\u001b[39mensure_auth()\n\u001b[1;32m--> 262\u001b[0m     response \u001b[38;5;241m=\u001b[39m \u001b[38;5;28;43mself\u001b[39;49m\u001b[38;5;241;43m.\u001b[39;49m\u001b[43mclient\u001b[49m\u001b[38;5;241;43m.\u001b[39;49m\u001b[43mquery\u001b[49m\u001b[43m(\u001b[49m\u001b[43mrequest\u001b[49m\u001b[43m)\u001b[49m\n\u001b[0;32m    263\u001b[0m     \u001b[38;5;28;01mif\u001b[39;00m response\u001b[38;5;241m.\u001b[39mstatus:\n\u001b[0;32m    264\u001b[0m         msg \u001b[38;5;241m=\u001b[39m response\u001b[38;5;241m.\u001b[39mmsg\n",
      "File \u001b[1;32m~\\anaconda3\\lib\\site-packages\\thriftpy2\\thrift.py:219\u001b[0m, in \u001b[0;36mTClient._req\u001b[1;34m(self, _api, *args, **kwargs)\u001b[0m\n\u001b[0;32m    217\u001b[0m \u001b[38;5;66;03m# wait result only if non-oneway\u001b[39;00m\n\u001b[0;32m    218\u001b[0m \u001b[38;5;28;01mif\u001b[39;00m \u001b[38;5;129;01mnot\u001b[39;00m \u001b[38;5;28mgetattr\u001b[39m(result_cls, \u001b[38;5;124m\"\u001b[39m\u001b[38;5;124moneway\u001b[39m\u001b[38;5;124m\"\u001b[39m):\n\u001b[1;32m--> 219\u001b[0m     \u001b[38;5;28;01mreturn\u001b[39;00m \u001b[38;5;28;43mself\u001b[39;49m\u001b[38;5;241;43m.\u001b[39;49m\u001b[43m_recv\u001b[49m\u001b[43m(\u001b[49m\u001b[43m_api\u001b[49m\u001b[43m)\u001b[49m\n",
      "File \u001b[1;32m~\\anaconda3\\lib\\site-packages\\thriftpy2\\thrift.py:231\u001b[0m, in \u001b[0;36mTClient._recv\u001b[1;34m(self, _api)\u001b[0m\n\u001b[0;32m    230\u001b[0m \u001b[38;5;28;01mdef\u001b[39;00m \u001b[38;5;21m_recv\u001b[39m(\u001b[38;5;28mself\u001b[39m, _api):\n\u001b[1;32m--> 231\u001b[0m     fname, mtype, rseqid \u001b[38;5;241m=\u001b[39m \u001b[38;5;28;43mself\u001b[39;49m\u001b[38;5;241;43m.\u001b[39;49m\u001b[43m_iprot\u001b[49m\u001b[38;5;241;43m.\u001b[39;49m\u001b[43mread_message_begin\u001b[49m\u001b[43m(\u001b[49m\u001b[43m)\u001b[49m\n\u001b[0;32m    232\u001b[0m     \u001b[38;5;28;01mif\u001b[39;00m mtype \u001b[38;5;241m==\u001b[39m TMessageType\u001b[38;5;241m.\u001b[39mEXCEPTION:\n\u001b[0;32m    233\u001b[0m         x \u001b[38;5;241m=\u001b[39m TApplicationException()\n",
      "File \u001b[1;32m~\\anaconda3\\lib\\site-packages\\thriftpy2\\protocol\\binary.py:393\u001b[0m, in \u001b[0;36mTBinaryProtocol.read_message_begin\u001b[1;34m(self)\u001b[0m\n\u001b[0;32m    392\u001b[0m \u001b[38;5;28;01mdef\u001b[39;00m \u001b[38;5;21mread_message_begin\u001b[39m(\u001b[38;5;28mself\u001b[39m):\n\u001b[1;32m--> 393\u001b[0m     api, ttype, seqid \u001b[38;5;241m=\u001b[39m \u001b[43mread_message_begin\u001b[49m\u001b[43m(\u001b[49m\n\u001b[0;32m    394\u001b[0m \u001b[43m        \u001b[49m\u001b[38;5;28;43mself\u001b[39;49m\u001b[38;5;241;43m.\u001b[39;49m\u001b[43mtrans\u001b[49m\u001b[43m,\u001b[49m\u001b[43m \u001b[49m\u001b[43mstrict\u001b[49m\u001b[38;5;241;43m=\u001b[39;49m\u001b[38;5;28;43mself\u001b[39;49m\u001b[38;5;241;43m.\u001b[39;49m\u001b[43mstrict_read\u001b[49m\u001b[43m)\u001b[49m\n\u001b[0;32m    395\u001b[0m     \u001b[38;5;28;01mreturn\u001b[39;00m api, ttype, seqid\n",
      "File \u001b[1;32m~\\anaconda3\\lib\\site-packages\\thriftpy2\\protocol\\binary.py:174\u001b[0m, in \u001b[0;36mread_message_begin\u001b[1;34m(inbuf, strict)\u001b[0m\n\u001b[0;32m    173\u001b[0m \u001b[38;5;28;01mdef\u001b[39;00m \u001b[38;5;21mread_message_begin\u001b[39m(inbuf, strict\u001b[38;5;241m=\u001b[39m\u001b[38;5;28;01mTrue\u001b[39;00m):\n\u001b[1;32m--> 174\u001b[0m     sz \u001b[38;5;241m=\u001b[39m unpack_i32(\u001b[43minbuf\u001b[49m\u001b[38;5;241;43m.\u001b[39;49m\u001b[43mread\u001b[49m\u001b[43m(\u001b[49m\u001b[38;5;241;43m4\u001b[39;49m\u001b[43m)\u001b[49m)\n\u001b[0;32m    175\u001b[0m     \u001b[38;5;28;01mif\u001b[39;00m sz \u001b[38;5;241m<\u001b[39m \u001b[38;5;241m0\u001b[39m:\n\u001b[0;32m    176\u001b[0m         version \u001b[38;5;241m=\u001b[39m sz \u001b[38;5;241m&\u001b[39m VERSION_MASK\n",
      "File \u001b[1;32m~\\anaconda3\\lib\\site-packages\\thriftpy2\\transport\\base.py:60\u001b[0m, in \u001b[0;36mTTransportBase.read\u001b[1;34m(self, sz)\u001b[0m\n\u001b[0;32m     48\u001b[0m \u001b[38;5;28;01mdef\u001b[39;00m \u001b[38;5;21mread\u001b[39m(\u001b[38;5;28mself\u001b[39m, sz):\n\u001b[0;32m     49\u001b[0m \u001b[38;5;250m    \u001b[39m\u001b[38;5;124;03m\"\"\"\u001b[39;00m\n\u001b[0;32m     50\u001b[0m \u001b[38;5;124;03m    Get exactly `sz` bytes from the underlying connection.\u001b[39;00m\n\u001b[0;32m     51\u001b[0m \n\u001b[1;32m   (...)\u001b[0m\n\u001b[0;32m     58\u001b[0m \u001b[38;5;124;03m    https://github.com/Thriftpy/thriftpy2/pull/108#discussion_r355131677\u001b[39;00m\n\u001b[0;32m     59\u001b[0m \u001b[38;5;124;03m    \"\"\"\u001b[39;00m\n\u001b[1;32m---> 60\u001b[0m     \u001b[38;5;28;01mreturn\u001b[39;00m \u001b[43mreadall\u001b[49m\u001b[43m(\u001b[49m\u001b[38;5;28;43mself\u001b[39;49m\u001b[38;5;241;43m.\u001b[39;49m\u001b[43m_read\u001b[49m\u001b[43m,\u001b[49m\u001b[43m \u001b[49m\u001b[43msz\u001b[49m\u001b[43m)\u001b[49m\n",
      "File \u001b[1;32m~\\anaconda3\\lib\\site-packages\\thriftpy2\\transport\\base.py:12\u001b[0m, in \u001b[0;36mreadall\u001b[1;34m(read_fn, sz)\u001b[0m\n\u001b[0;32m     10\u001b[0m have \u001b[38;5;241m=\u001b[39m \u001b[38;5;241m0\u001b[39m\n\u001b[0;32m     11\u001b[0m \u001b[38;5;28;01mwhile\u001b[39;00m have \u001b[38;5;241m<\u001b[39m sz:\n\u001b[1;32m---> 12\u001b[0m     chunk \u001b[38;5;241m=\u001b[39m \u001b[43mread_fn\u001b[49m\u001b[43m(\u001b[49m\u001b[43msz\u001b[49m\u001b[43m \u001b[49m\u001b[38;5;241;43m-\u001b[39;49m\u001b[43m \u001b[49m\u001b[43mhave\u001b[49m\u001b[43m)\u001b[49m\n\u001b[0;32m     13\u001b[0m     have \u001b[38;5;241m+\u001b[39m\u001b[38;5;241m=\u001b[39m \u001b[38;5;28mlen\u001b[39m(chunk)\n\u001b[0;32m     14\u001b[0m     buff \u001b[38;5;241m+\u001b[39m\u001b[38;5;241m=\u001b[39m chunk\n",
      "File \u001b[1;32m~\\anaconda3\\lib\\site-packages\\thriftpy2\\transport\\buffered\\__init__.py:41\u001b[0m, in \u001b[0;36mTBufferedTransport._read\u001b[1;34m(self, sz)\u001b[0m\n\u001b[0;32m     38\u001b[0m \u001b[38;5;28;01mif\u001b[39;00m rest_len \u001b[38;5;241m==\u001b[39m \u001b[38;5;241m0\u001b[39m:\n\u001b[0;32m     39\u001b[0m     \u001b[38;5;28;01mreturn\u001b[39;00m ret\n\u001b[1;32m---> 41\u001b[0m buf \u001b[38;5;241m=\u001b[39m \u001b[38;5;28;43mself\u001b[39;49m\u001b[38;5;241;43m.\u001b[39;49m\u001b[43m_trans\u001b[49m\u001b[38;5;241;43m.\u001b[39;49m\u001b[43mread\u001b[49m\u001b[43m(\u001b[49m\u001b[38;5;28;43mmax\u001b[39;49m\u001b[43m(\u001b[49m\u001b[43mrest_len\u001b[49m\u001b[43m,\u001b[49m\u001b[43m \u001b[49m\u001b[38;5;28;43mself\u001b[39;49m\u001b[38;5;241;43m.\u001b[39;49m\u001b[43m_buf_size\u001b[49m\u001b[43m)\u001b[49m\u001b[43m)\u001b[49m\n\u001b[0;32m     42\u001b[0m ret \u001b[38;5;241m=\u001b[39m ret \u001b[38;5;241m+\u001b[39m buf[:rest_len]\n\u001b[0;32m     43\u001b[0m buf \u001b[38;5;241m=\u001b[39m buf[rest_len:]\n",
      "File \u001b[1;32m~\\anaconda3\\lib\\site-packages\\thriftpy2\\transport\\socket.py:112\u001b[0m, in \u001b[0;36mTSocket.read\u001b[1;34m(self, sz)\u001b[0m\n\u001b[0;32m    110\u001b[0m \u001b[38;5;28;01mwhile\u001b[39;00m \u001b[38;5;28;01mTrue\u001b[39;00m:\n\u001b[0;32m    111\u001b[0m     \u001b[38;5;28;01mtry\u001b[39;00m:\n\u001b[1;32m--> 112\u001b[0m         buff \u001b[38;5;241m=\u001b[39m \u001b[38;5;28;43mself\u001b[39;49m\u001b[38;5;241;43m.\u001b[39;49m\u001b[43msock\u001b[49m\u001b[38;5;241;43m.\u001b[39;49m\u001b[43mrecv\u001b[49m\u001b[43m(\u001b[49m\u001b[43msz\u001b[49m\u001b[43m)\u001b[49m\n\u001b[0;32m    113\u001b[0m     \u001b[38;5;28;01mexcept\u001b[39;00m socket\u001b[38;5;241m.\u001b[39merror \u001b[38;5;28;01mas\u001b[39;00m e:\n\u001b[0;32m    114\u001b[0m         \u001b[38;5;28;01mif\u001b[39;00m e\u001b[38;5;241m.\u001b[39merrno \u001b[38;5;241m==\u001b[39m errno\u001b[38;5;241m.\u001b[39mEINTR:\n",
      "\u001b[1;31mKeyboardInterrupt\u001b[0m: "
     ]
    }
   ],
   "source": [
    "import datetime\n",
    "data_futures=get_all_securities(types=['futures'], date=None)\n",
    "unique_class=[]\n",
    "for item in data_futures.index:\n",
    "    name=item[:-9]+\"9999\"+item[-5:-1]+item[-1]\n",
    "    if name not in unique_class:\n",
    "        unique_class.append(name)\n",
    "\n",
    "unique_class.remove(\"IF9999.CCFX\")\n",
    "unique_class.remove(\"TF9999.CCFX\")\n",
    "unique_class.remove(\"T9999.CCFX\")\n",
    "unique_class.remove(\"IC9999.CCFX\")\n",
    "unique_class.remove(\"IH9999.CCFX\")\n",
    "unique_class.remove(\"TS9999.CCFX\")\n",
    "unique_class.remove(\"IM9999.CCFX\")\n",
    "unique_class.remove(\"TL9999.CCFX\")\n",
    "\n",
    "\n",
    "all_time=[]\n",
    "futures_time={}\n",
    "\n",
    "SD=str(datetime.datetime.now()+datetime.timedelta(days=-30)).split()[0]\n",
    "ED = str(datetime.datetime.now().date())\n",
    "type=\"open\"\n",
    "\n",
    "for futures in unique_class:\n",
    "    ct=0\n",
    "    futures_df=get_price(futures, start_date = SD, end_date=ED, frequency='1m', fields= type, fq='none')\n",
    "    \n",
    "    for min in futures_df.index:\n",
    "        if \"2023-10-27\" in str(min):\n",
    "            ct=ct+1\n",
    "    #print(ct)\n",
    "    futures_time[futures]=ct\n",
    "    if ct not in all_time:\n",
    "        all_time.append(ct)\n"
   ]
  },
  {
   "cell_type": "code",
   "execution_count": 16,
   "id": "b1cfa7fd",
   "metadata": {},
   "outputs": [
    {
     "name": "stdout",
     "output_type": "stream",
     "text": [
      "{345: ['A9999.XDCE', 'B9999.XDCE', 'BR9999.XSGE', 'BU9999.XSGE', 'C9999.XDCE', 'CF9999.XZCE', 'CS9999.XDCE', 'CY9999.XZCE', 'EB9999.XDCE', 'EG9999.XDCE', 'FG9999.XZCE', 'FU9999.XSGE', 'HC9999.XSGE', 'I9999.XDCE', 'J9999.XDCE', 'JM9999.XDCE', 'L9999.XDCE', 'LU9999.XINE', 'M9999.XDCE', 'MA9999.XZCE', 'NR9999.XINE', 'OI9999.XZCE', 'P9999.XDCE', 'PF9999.XZCE', 'PG9999.XDCE', 'PP9999.XDCE', 'PX9999.XZCE', 'RB9999.XSGE', 'RM9999.XZCE', 'RR9999.XDCE', 'RU9999.XSGE', 'SA9999.XZCE', 'SH9999.XZCE', 'SP9999.XSGE', 'SR9999.XZCE', 'TA9999.XZCE', 'V9999.XDCE', 'Y9999.XDCE', 'ZC9999.XZCE'], 555: ['AG9999.XSGE', 'AU9999.XSGE', 'SC9999.XINE'], 465: ['AL9999.XSGE', 'AO9999.XSGE', 'BC9999.XINE', 'CU9999.XSGE', 'NI9999.XSGE', 'PB9999.XSGE', 'SN9999.XSGE', 'SS9999.XSGE', 'ZN9999.XSGE'], 225: ['AP9999.XZCE', 'BB9999.XDCE', 'CJ9999.XZCE', 'EC9999.XINE', 'FB9999.XDCE', 'JD9999.XDCE', 'JR9999.XZCE', 'LC9999.GFEX', 'LH9999.XDCE', 'LR9999.XZCE', 'PK9999.XZCE', 'PM9999.XZCE', 'RI9999.XZCE', 'RS9999.XZCE', 'SF9999.XZCE', 'SI9999.GFEX', 'SM9999.XZCE', 'UR9999.XZCE', 'WH9999.XZCE', 'WR9999.XSGE'], 0: ['ER9999.XZCE', 'GN9999.XZCE', 'ME9999.XZCE', 'RO9999.XZCE', 'TC9999.XZCE', 'WS9999.XZCE', 'WT9999.XZCE']}\n"
     ]
    }
   ],
   "source": [
    "time_futures={}\n",
    "for t in all_time:\n",
    "    tlist=[]\n",
    "    for futures in futures_time.keys():\n",
    "        if futures_time[futures]==t:\n",
    "            tlist.append(futures)\n",
    "            \n",
    "    time_futures[t]=tlist\n",
    "    \n",
    "print(time_futures)"
   ]
  },
  {
   "cell_type": "code",
   "execution_count": 17,
   "id": "3838150d",
   "metadata": {},
   "outputs": [
    {
     "name": "stdout",
     "output_type": "stream",
     "text": [
      "5.75\n",
      "9.25\n",
      "7.75\n",
      "3.75\n",
      "0.0\n"
     ]
    }
   ],
   "source": [
    "for item in all_time:\n",
    "    print(item/60)"
   ]
  },
  {
   "cell_type": "code",
   "execution_count": 3,
   "id": "c30b2b60",
   "metadata": {},
   "outputs": [],
   "source": [
    "today=str(datetime.datetime.now()).split(\" \")[0]"
   ]
  },
  {
   "cell_type": "code",
   "execution_count": 6,
   "id": "a345dd5b",
   "metadata": {},
   "outputs": [],
   "source": [
    "import pandas as pd\n",
    "import time\n",
    "import numpy as np\n",
    "import os\n",
    "def aaa(type):\n",
    "    data_futures=get_all_securities(types=['futures'], date=None)\n",
    "    unique_class=[]\n",
    "    for item in data_futures.index:\n",
    "        name=item[:-9]+\"9999\"+item[-5:-1]+item[-1]\n",
    "        if name not in unique_class:\n",
    "            unique_class.append(name)\n",
    "            \n",
    "            \n",
    "    unique_class.remove(\"IF9999.CCFX\")\n",
    "    unique_class.remove(\"TF9999.CCFX\")\n",
    "    unique_class.remove(\"T9999.CCFX\")\n",
    "    unique_class.remove(\"IC9999.CCFX\")\n",
    "    unique_class.remove(\"IH9999.CCFX\")\n",
    "    unique_class.remove(\"TS9999.CCFX\")\n",
    "    unique_class.remove(\"IM9999.CCFX\")\n",
    "    unique_class.remove(\"TL9999.CCFX\")\n",
    "\n",
    "   \n",
    "    Ticks = unique_class\n",
    "    SD = str(datetime.datetime.now()+datetime.timedelta(days=-365*2)).split()[0]\n",
    "    ED = str(datetime.datetime.now().date())\n",
    "    dfs = get_price('AG9999.XSGE', start_date = SD, end_date=ED, frequency='1m', fields= 'volume', fq='none')\n",
    "    \n",
    "\n",
    "    \n",
    "    print('num of futures ' + str(len(Ticks)))\n",
    "\n",
    "    c=0\n",
    "    start = time.time()\n",
    "    df = pd.DataFrame(np.nan, index = dfs.index, columns = list(Ticks))\n",
    "    df.shape\n",
    "    for t in Ticks[0:len(Ticks)]:\n",
    "        try:\n",
    "            dfu = get_price(t, start_date = SD, end_date=ED, frequency='1m',  fields=type, fq='none') \n",
    "            df.loc[dfu.index, t] = dfu[type]\n",
    "        \n",
    "        except:\n",
    "            pass\n",
    "        c = c + 1\n",
    "        if c%50==0:\n",
    "            print(c)\n",
    "    end = time.time()\n",
    "    print(end-start)\n",
    "\n",
    "    today=str(datetime.datetime.now()).split(\" \")[0]   \n",
    "    if not os.path.exists(today):\n",
    "                os.makedirs(today)\n",
    "    df.to_csv(today+'/Afutures'+type+'1m.csv')\n",
    "    print('file saved')"
   ]
  },
  {
   "cell_type": "code",
   "execution_count": 32,
   "id": "e82461a2",
   "metadata": {},
   "outputs": [
    {
     "name": "stdout",
     "output_type": "stream",
     "text": [
      "num of futures 78\n",
      "50\n",
      "34.28310775756836\n",
      "file saved\n"
     ]
    }
   ],
   "source": [
    "aaa(\"open\")"
   ]
  },
  {
   "cell_type": "code",
   "execution_count": 7,
   "id": "7c84d24f",
   "metadata": {},
   "outputs": [],
   "source": [
    "def generate_today_futures():\n",
    "    typelist=[\"open\",\"high\",\"low\",\"close\",\"volume\",\"money\"]\n",
    "    for type in typelist:\n",
    "        aaa(type)"
   ]
  },
  {
   "cell_type": "code",
   "execution_count": 9,
   "id": "ef6c7822",
   "metadata": {
    "scrolled": true
   },
   "outputs": [
    {
     "ename": "TProtocolException",
     "evalue": "Bad version in read_message_begin: -840505144",
     "output_type": "error",
     "traceback": [
      "\u001b[1;31m---------------------------------------------------------------------------\u001b[0m",
      "\u001b[1;31mTProtocolException\u001b[0m                        Traceback (most recent call last)",
      "Cell \u001b[1;32mIn[9], line 1\u001b[0m\n\u001b[1;32m----> 1\u001b[0m \u001b[43mgenerate_today_futures\u001b[49m\u001b[43m(\u001b[49m\u001b[43m)\u001b[49m\n",
      "Cell \u001b[1;32mIn[7], line 4\u001b[0m, in \u001b[0;36mgenerate_today_futures\u001b[1;34m()\u001b[0m\n\u001b[0;32m      2\u001b[0m typelist\u001b[38;5;241m=\u001b[39m[\u001b[38;5;124m\"\u001b[39m\u001b[38;5;124mopen\u001b[39m\u001b[38;5;124m\"\u001b[39m,\u001b[38;5;124m\"\u001b[39m\u001b[38;5;124mhigh\u001b[39m\u001b[38;5;124m\"\u001b[39m,\u001b[38;5;124m\"\u001b[39m\u001b[38;5;124mlow\u001b[39m\u001b[38;5;124m\"\u001b[39m,\u001b[38;5;124m\"\u001b[39m\u001b[38;5;124mclose\u001b[39m\u001b[38;5;124m\"\u001b[39m,\u001b[38;5;124m\"\u001b[39m\u001b[38;5;124mvolume\u001b[39m\u001b[38;5;124m\"\u001b[39m,\u001b[38;5;124m\"\u001b[39m\u001b[38;5;124mmoney\u001b[39m\u001b[38;5;124m\"\u001b[39m]\n\u001b[0;32m      3\u001b[0m \u001b[38;5;28;01mfor\u001b[39;00m \u001b[38;5;28mtype\u001b[39m \u001b[38;5;129;01min\u001b[39;00m typelist:\n\u001b[1;32m----> 4\u001b[0m     \u001b[43maaa\u001b[49m\u001b[43m(\u001b[49m\u001b[38;5;28;43mtype\u001b[39;49m\u001b[43m)\u001b[49m\n",
      "Cell \u001b[1;32mIn[6], line 27\u001b[0m, in \u001b[0;36maaa\u001b[1;34m(type)\u001b[0m\n\u001b[0;32m     25\u001b[0m SD \u001b[38;5;241m=\u001b[39m \u001b[38;5;28mstr\u001b[39m(datetime\u001b[38;5;241m.\u001b[39mdatetime\u001b[38;5;241m.\u001b[39mnow()\u001b[38;5;241m+\u001b[39mdatetime\u001b[38;5;241m.\u001b[39mtimedelta(days\u001b[38;5;241m=\u001b[39m\u001b[38;5;241m-\u001b[39m\u001b[38;5;241m365\u001b[39m\u001b[38;5;241m*\u001b[39m\u001b[38;5;241m2\u001b[39m))\u001b[38;5;241m.\u001b[39msplit()[\u001b[38;5;241m0\u001b[39m]\n\u001b[0;32m     26\u001b[0m ED \u001b[38;5;241m=\u001b[39m \u001b[38;5;28mstr\u001b[39m(datetime\u001b[38;5;241m.\u001b[39mdatetime\u001b[38;5;241m.\u001b[39mnow()\u001b[38;5;241m.\u001b[39mdate())\n\u001b[1;32m---> 27\u001b[0m dfs \u001b[38;5;241m=\u001b[39m \u001b[43mget_price\u001b[49m\u001b[43m(\u001b[49m\u001b[38;5;124;43m'\u001b[39;49m\u001b[38;5;124;43mAG9999.XSGE\u001b[39;49m\u001b[38;5;124;43m'\u001b[39;49m\u001b[43m,\u001b[49m\u001b[43m \u001b[49m\u001b[43mstart_date\u001b[49m\u001b[43m \u001b[49m\u001b[38;5;241;43m=\u001b[39;49m\u001b[43m \u001b[49m\u001b[43mSD\u001b[49m\u001b[43m,\u001b[49m\u001b[43m \u001b[49m\u001b[43mend_date\u001b[49m\u001b[38;5;241;43m=\u001b[39;49m\u001b[43mED\u001b[49m\u001b[43m,\u001b[49m\u001b[43m \u001b[49m\u001b[43mfrequency\u001b[49m\u001b[38;5;241;43m=\u001b[39;49m\u001b[38;5;124;43m'\u001b[39;49m\u001b[38;5;124;43m1m\u001b[39;49m\u001b[38;5;124;43m'\u001b[39;49m\u001b[43m,\u001b[49m\u001b[43m \u001b[49m\u001b[43mfields\u001b[49m\u001b[38;5;241;43m=\u001b[39;49m\u001b[43m \u001b[49m\u001b[38;5;124;43m'\u001b[39;49m\u001b[38;5;124;43mvolume\u001b[39;49m\u001b[38;5;124;43m'\u001b[39;49m\u001b[43m,\u001b[49m\u001b[43m \u001b[49m\u001b[43mfq\u001b[49m\u001b[38;5;241;43m=\u001b[39;49m\u001b[38;5;124;43m'\u001b[39;49m\u001b[38;5;124;43mnone\u001b[39;49m\u001b[38;5;124;43m'\u001b[39;49m\u001b[43m)\u001b[49m\n\u001b[0;32m     31\u001b[0m \u001b[38;5;28mprint\u001b[39m(\u001b[38;5;124m'\u001b[39m\u001b[38;5;124mnum of futures \u001b[39m\u001b[38;5;124m'\u001b[39m \u001b[38;5;241m+\u001b[39m \u001b[38;5;28mstr\u001b[39m(\u001b[38;5;28mlen\u001b[39m(Ticks)))\n\u001b[0;32m     33\u001b[0m c\u001b[38;5;241m=\u001b[39m\u001b[38;5;241m0\u001b[39m\n",
      "File \u001b[1;32m~\\anaconda3\\lib\\site-packages\\jqdatasdk\\utils.py:350\u001b[0m, in \u001b[0;36massert_auth.<locals>._wrapper\u001b[1;34m(*args, **kwargs)\u001b[0m\n\u001b[0;32m    348\u001b[0m     \u001b[38;5;28;01mraise\u001b[39;00m \u001b[38;5;167;01mException\u001b[39;00m(\u001b[38;5;124m\"\u001b[39m\u001b[38;5;124mPlease run jqdatasdk.auth first\u001b[39m\u001b[38;5;124m\"\u001b[39m)\n\u001b[0;32m    349\u001b[0m \u001b[38;5;28;01melse\u001b[39;00m:\n\u001b[1;32m--> 350\u001b[0m     \u001b[38;5;28;01mreturn\u001b[39;00m \u001b[43mfunc\u001b[49m\u001b[43m(\u001b[49m\u001b[38;5;241;43m*\u001b[39;49m\u001b[43margs\u001b[49m\u001b[43m,\u001b[49m\u001b[43m \u001b[49m\u001b[38;5;241;43m*\u001b[39;49m\u001b[38;5;241;43m*\u001b[39;49m\u001b[43mkwargs\u001b[49m\u001b[43m)\u001b[49m\n",
      "File \u001b[1;32m~\\anaconda3\\lib\\site-packages\\jqdatasdk\\api.py:39\u001b[0m, in \u001b[0;36mget_price\u001b[1;34m(security, start_date, end_date, frequency, fields, skip_paused, fq, count, panel, fill_paused, round)\u001b[0m\n\u001b[0;32m     37\u001b[0m \u001b[38;5;28;01mif\u001b[39;00m count \u001b[38;5;129;01mand\u001b[39;00m start_date:\n\u001b[0;32m     38\u001b[0m     \u001b[38;5;28;01mraise\u001b[39;00m ParamsError(\u001b[38;5;124m\"\u001b[39m\u001b[38;5;124m(start_date, count) only one param is required\u001b[39m\u001b[38;5;124m\"\u001b[39m)\n\u001b[1;32m---> 39\u001b[0m \u001b[38;5;28;01mreturn\u001b[39;00m \u001b[43mJQDataClient\u001b[49m\u001b[38;5;241;43m.\u001b[39;49m\u001b[43minstance\u001b[49m\u001b[43m(\u001b[49m\u001b[43m)\u001b[49m\u001b[38;5;241;43m.\u001b[39;49m\u001b[43mget_price\u001b[49m\u001b[43m(\u001b[49m\u001b[38;5;241;43m*\u001b[39;49m\u001b[38;5;241;43m*\u001b[39;49m\u001b[38;5;28;43mlocals\u001b[39;49m\u001b[43m(\u001b[49m\u001b[43m)\u001b[49m\u001b[43m)\u001b[49m\n",
      "File \u001b[1;32m~\\anaconda3\\lib\\site-packages\\jqdatasdk\\client.py:372\u001b[0m, in \u001b[0;36mJQDataClient.__getattr__.<locals>.<lambda>\u001b[1;34m(**kwargs)\u001b[0m\n\u001b[0;32m    371\u001b[0m \u001b[38;5;28;01mdef\u001b[39;00m \u001b[38;5;21m__getattr__\u001b[39m(\u001b[38;5;28mself\u001b[39m, method):\n\u001b[1;32m--> 372\u001b[0m     \u001b[38;5;28;01mreturn\u001b[39;00m \u001b[38;5;28;01mlambda\u001b[39;00m \u001b[38;5;241m*\u001b[39m\u001b[38;5;241m*\u001b[39mkwargs: \u001b[38;5;28;43mself\u001b[39;49m\u001b[43m(\u001b[49m\u001b[43mmethod\u001b[49m\u001b[43m,\u001b[49m\u001b[43m \u001b[49m\u001b[38;5;241;43m*\u001b[39;49m\u001b[38;5;241;43m*\u001b[39;49m\u001b[43mkwargs\u001b[49m\u001b[43m)\u001b[49m\n",
      "File \u001b[1;32m~\\anaconda3\\lib\\site-packages\\jqdatasdk\\client.py:356\u001b[0m, in \u001b[0;36mJQDataClient.__call__\u001b[1;34m(self, method, **kwargs)\u001b[0m\n\u001b[0;32m    354\u001b[0m \u001b[38;5;28;01mfor\u001b[39;00m _ \u001b[38;5;129;01min\u001b[39;00m \u001b[38;5;28mrange\u001b[39m(\u001b[38;5;28mself\u001b[39m\u001b[38;5;241m.\u001b[39mrequest_attempt_count):\n\u001b[0;32m    355\u001b[0m     \u001b[38;5;28;01mtry\u001b[39;00m:\n\u001b[1;32m--> 356\u001b[0m         result \u001b[38;5;241m=\u001b[39m \u001b[38;5;28;43mself\u001b[39;49m\u001b[38;5;241;43m.\u001b[39;49m\u001b[43mquery\u001b[49m\u001b[43m(\u001b[49m\u001b[43mmethod\u001b[49m\u001b[43m,\u001b[49m\u001b[43m \u001b[49m\u001b[43mkwargs\u001b[49m\u001b[43m)\u001b[49m\n\u001b[0;32m    357\u001b[0m         \u001b[38;5;28;01mbreak\u001b[39;00m\n\u001b[0;32m    358\u001b[0m     \u001b[38;5;28;01mexcept\u001b[39;00m socket_error \u001b[38;5;28;01mas\u001b[39;00m ex:\n",
      "File \u001b[1;32m~\\anaconda3\\lib\\site-packages\\jqdatasdk\\client.py:262\u001b[0m, in \u001b[0;36mJQDataClient.query\u001b[1;34m(self, method, params)\u001b[0m\n\u001b[0;32m    260\u001b[0m \u001b[38;5;28;01mtry\u001b[39;00m:\n\u001b[0;32m    261\u001b[0m     \u001b[38;5;28mself\u001b[39m\u001b[38;5;241m.\u001b[39mensure_auth()\n\u001b[1;32m--> 262\u001b[0m     response \u001b[38;5;241m=\u001b[39m \u001b[38;5;28;43mself\u001b[39;49m\u001b[38;5;241;43m.\u001b[39;49m\u001b[43mclient\u001b[49m\u001b[38;5;241;43m.\u001b[39;49m\u001b[43mquery\u001b[49m\u001b[43m(\u001b[49m\u001b[43mrequest\u001b[49m\u001b[43m)\u001b[49m\n\u001b[0;32m    263\u001b[0m     \u001b[38;5;28;01mif\u001b[39;00m response\u001b[38;5;241m.\u001b[39mstatus:\n\u001b[0;32m    264\u001b[0m         msg \u001b[38;5;241m=\u001b[39m response\u001b[38;5;241m.\u001b[39mmsg\n",
      "File \u001b[1;32m~\\anaconda3\\lib\\site-packages\\thriftpy2\\thrift.py:219\u001b[0m, in \u001b[0;36mTClient._req\u001b[1;34m(self, _api, *args, **kwargs)\u001b[0m\n\u001b[0;32m    217\u001b[0m \u001b[38;5;66;03m# wait result only if non-oneway\u001b[39;00m\n\u001b[0;32m    218\u001b[0m \u001b[38;5;28;01mif\u001b[39;00m \u001b[38;5;129;01mnot\u001b[39;00m \u001b[38;5;28mgetattr\u001b[39m(result_cls, \u001b[38;5;124m\"\u001b[39m\u001b[38;5;124moneway\u001b[39m\u001b[38;5;124m\"\u001b[39m):\n\u001b[1;32m--> 219\u001b[0m     \u001b[38;5;28;01mreturn\u001b[39;00m \u001b[38;5;28;43mself\u001b[39;49m\u001b[38;5;241;43m.\u001b[39;49m\u001b[43m_recv\u001b[49m\u001b[43m(\u001b[49m\u001b[43m_api\u001b[49m\u001b[43m)\u001b[49m\n",
      "File \u001b[1;32m~\\anaconda3\\lib\\site-packages\\thriftpy2\\thrift.py:231\u001b[0m, in \u001b[0;36mTClient._recv\u001b[1;34m(self, _api)\u001b[0m\n\u001b[0;32m    230\u001b[0m \u001b[38;5;28;01mdef\u001b[39;00m \u001b[38;5;21m_recv\u001b[39m(\u001b[38;5;28mself\u001b[39m, _api):\n\u001b[1;32m--> 231\u001b[0m     fname, mtype, rseqid \u001b[38;5;241m=\u001b[39m \u001b[38;5;28;43mself\u001b[39;49m\u001b[38;5;241;43m.\u001b[39;49m\u001b[43m_iprot\u001b[49m\u001b[38;5;241;43m.\u001b[39;49m\u001b[43mread_message_begin\u001b[49m\u001b[43m(\u001b[49m\u001b[43m)\u001b[49m\n\u001b[0;32m    232\u001b[0m     \u001b[38;5;28;01mif\u001b[39;00m mtype \u001b[38;5;241m==\u001b[39m TMessageType\u001b[38;5;241m.\u001b[39mEXCEPTION:\n\u001b[0;32m    233\u001b[0m         x \u001b[38;5;241m=\u001b[39m TApplicationException()\n",
      "File \u001b[1;32m~\\anaconda3\\lib\\site-packages\\thriftpy2\\protocol\\binary.py:393\u001b[0m, in \u001b[0;36mTBinaryProtocol.read_message_begin\u001b[1;34m(self)\u001b[0m\n\u001b[0;32m    392\u001b[0m \u001b[38;5;28;01mdef\u001b[39;00m \u001b[38;5;21mread_message_begin\u001b[39m(\u001b[38;5;28mself\u001b[39m):\n\u001b[1;32m--> 393\u001b[0m     api, ttype, seqid \u001b[38;5;241m=\u001b[39m \u001b[43mread_message_begin\u001b[49m\u001b[43m(\u001b[49m\n\u001b[0;32m    394\u001b[0m \u001b[43m        \u001b[49m\u001b[38;5;28;43mself\u001b[39;49m\u001b[38;5;241;43m.\u001b[39;49m\u001b[43mtrans\u001b[49m\u001b[43m,\u001b[49m\u001b[43m \u001b[49m\u001b[43mstrict\u001b[49m\u001b[38;5;241;43m=\u001b[39;49m\u001b[38;5;28;43mself\u001b[39;49m\u001b[38;5;241;43m.\u001b[39;49m\u001b[43mstrict_read\u001b[49m\u001b[43m)\u001b[49m\n\u001b[0;32m    395\u001b[0m     \u001b[38;5;28;01mreturn\u001b[39;00m api, ttype, seqid\n",
      "File \u001b[1;32m~\\anaconda3\\lib\\site-packages\\thriftpy2\\protocol\\binary.py:178\u001b[0m, in \u001b[0;36mread_message_begin\u001b[1;34m(inbuf, strict)\u001b[0m\n\u001b[0;32m    176\u001b[0m version \u001b[38;5;241m=\u001b[39m sz \u001b[38;5;241m&\u001b[39m VERSION_MASK\n\u001b[0;32m    177\u001b[0m \u001b[38;5;28;01mif\u001b[39;00m version \u001b[38;5;241m!=\u001b[39m VERSION_1:\n\u001b[1;32m--> 178\u001b[0m     \u001b[38;5;28;01mraise\u001b[39;00m TProtocolException(\n\u001b[0;32m    179\u001b[0m         \u001b[38;5;28mtype\u001b[39m\u001b[38;5;241m=\u001b[39mTProtocolException\u001b[38;5;241m.\u001b[39mBAD_VERSION,\n\u001b[0;32m    180\u001b[0m         message\u001b[38;5;241m=\u001b[39m\u001b[38;5;124m'\u001b[39m\u001b[38;5;124mBad version in read_message_begin: \u001b[39m\u001b[38;5;132;01m%d\u001b[39;00m\u001b[38;5;124m'\u001b[39m \u001b[38;5;241m%\u001b[39m (sz))\n\u001b[0;32m    181\u001b[0m name_sz \u001b[38;5;241m=\u001b[39m unpack_i32(inbuf\u001b[38;5;241m.\u001b[39mread(\u001b[38;5;241m4\u001b[39m))\n\u001b[0;32m    182\u001b[0m name \u001b[38;5;241m=\u001b[39m inbuf\u001b[38;5;241m.\u001b[39mread(name_sz)\u001b[38;5;241m.\u001b[39mdecode(\u001b[38;5;124m'\u001b[39m\u001b[38;5;124mutf-8\u001b[39m\u001b[38;5;124m'\u001b[39m)\n",
      "\u001b[1;31mTProtocolException\u001b[0m: Bad version in read_message_begin: -840505144"
     ]
    }
   ],
   "source": [
    "generate_today_futures()"
   ]
  },
  {
   "cell_type": "code",
   "execution_count": 38,
   "id": "4a601b6c",
   "metadata": {},
   "outputs": [
    {
     "data": {
      "text/plain": [
       "'2023-11-01 11:24:09.157920'"
      ]
     },
     "execution_count": 38,
     "metadata": {},
     "output_type": "execute_result"
    }
   ],
   "source": [
    "str(datetime.datetime.now())"
   ]
  },
  {
   "cell_type": "code",
   "execution_count": 36,
   "id": "bad96e10",
   "metadata": {},
   "outputs": [
    {
     "data": {
      "text/plain": [
       "{'license': 1,\n",
       " 'date_range_start': '*',\n",
       " 'query_count_limit': 50000000,\n",
       " 'date_range_end': '*',\n",
       " 'expire_time': '2024-11-01 00:00:00',\n",
       " 'mob': '18664522405'}"
      ]
     },
     "execution_count": 36,
     "metadata": {},
     "output_type": "execute_result"
    }
   ],
   "source": [
    "get_account_info()"
   ]
  },
  {
   "cell_type": "code",
   "execution_count": null,
   "id": "baae2c52",
   "metadata": {},
   "outputs": [],
   "source": []
  }
 ],
 "metadata": {
  "kernelspec": {
   "display_name": "Python 3 (ipykernel)",
   "language": "python",
   "name": "python3"
  },
  "language_info": {
   "codemirror_mode": {
    "name": "ipython",
    "version": 3
   },
   "file_extension": ".py",
   "mimetype": "text/x-python",
   "name": "python",
   "nbconvert_exporter": "python",
   "pygments_lexer": "ipython3",
   "version": "3.8.8"
  }
 },
 "nbformat": 4,
 "nbformat_minor": 5
}
