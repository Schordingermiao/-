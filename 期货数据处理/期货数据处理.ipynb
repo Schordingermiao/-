{
 "cells": [
  {
   "cell_type": "markdown",
   "id": "98ac6451",
   "metadata": {},
   "source": [
    "# 读取聚宽原始数据"
   ]
  },
  {
   "cell_type": "code",
   "execution_count": 1,
   "id": "3cf76caa",
   "metadata": {},
   "outputs": [],
   "source": [
    "today=\"2023-11-03\""
   ]
  },
  {
   "cell_type": "code",
   "execution_count": 2,
   "id": "821f4b1e",
   "metadata": {},
   "outputs": [],
   "source": [
    "import pandas as pd\n",
    "import numpy as np\n",
    "Close=pd.read_csv(\"../期货数据/\"+today+\"/Afuturesclose1m.csv\",index_col=0)\n",
    "Open=pd.read_csv(\"../期货数据/\"+today+\"/Afuturesopen1m.csv\",index_col=0)\n",
    "High=pd.read_csv(\"../期货数据/\"+today+\"/Afutureshigh1m.csv\",index_col=0)\n",
    "Low=pd.read_csv(\"../期货数据/\"+today+\"/Afutureslow1m.csv\",index_col=0)\n",
    "Volume=pd.read_csv(\"../期货数据/\"+today+\"/Afuturesvolume1m.csv\",index_col=0)\n",
    "Money=pd.read_csv(\"../期货数据/\"+today+\"/Afuturesmoney1m.csv\",index_col=0)"
   ]
  },
  {
   "cell_type": "code",
   "execution_count": 3,
   "id": "bdef7df7",
   "metadata": {},
   "outputs": [],
   "source": [
    "Open=Open.dropna(axis=1,how='all')\n",
    "High=High.dropna(axis=1,how='all')\n",
    "Low=Low.dropna(axis=1,how='all')\n",
    "Close=Close.dropna(axis=1,how='all')\n",
    "Volume=Volume.dropna(axis=1,how='all')\n",
    "Money=Money.dropna(axis=1,how='all')"
   ]
  },
  {
   "cell_type": "markdown",
   "id": "9e0d3780",
   "metadata": {},
   "source": [
    "# 把每天的数据数量修改到555以便于切片"
   ]
  },
  {
   "cell_type": "code",
   "execution_count": 4,
   "id": "0a703040",
   "metadata": {},
   "outputs": [],
   "source": [
    "#将每天的数据数量修改到555\n",
    "def fix_df_index_to_555(Close):\n",
    "    date_list=[]\n",
    "    time_list=[]\n",
    "    for d in Close.index:\n",
    "        if d.split(\" \")[0] not in date_list:\n",
    "            date_list.append(d.split(\" \")[0])\n",
    "        if d.split(\" \")[1] not in time_list:\n",
    "            time_list.append(d.split(\" \")[1])\n",
    "    print(len(date_list))\n",
    "    print(len(time_list))\n",
    "\n",
    "    d_and_t=[]\n",
    "    for date in date_list:\n",
    "        for time in time_list:\n",
    "            d_and_t.append(date+\" \"+time)\n",
    "    \n",
    "    df=pd.DataFrame(index=d_and_t,columns=Close.columns)\n",
    "    for d in Close.index:\n",
    "        for futures in Close.columns:\n",
    "            df.loc[d,futures]=Close.loc[d,futures]\n",
    "    return df"
   ]
  },
  {
   "cell_type": "code",
   "execution_count": 5,
   "id": "76cf1e10",
   "metadata": {},
   "outputs": [
    {
     "name": "stdout",
     "output_type": "stream",
     "text": [
      "863\n",
      "555\n",
      "863\n",
      "555\n",
      "863\n",
      "555\n",
      "863\n",
      "555\n",
      "863\n",
      "555\n",
      "863\n",
      "555\n"
     ]
    }
   ],
   "source": [
    "Open=fix_df_index_to_555(Open)\n",
    "High=fix_df_index_to_555(High)\n",
    "Low=fix_df_index_to_555(Low)\n",
    "Close=fix_df_index_to_555(Close)\n",
    "Volume=fix_df_index_to_555(Volume)\n",
    "Money=fix_df_index_to_555(Money)"
   ]
  },
  {
   "cell_type": "code",
   "execution_count": 6,
   "id": "da3b2161",
   "metadata": {},
   "outputs": [],
   "source": [
    "Open.to_csv(\"fix_555_Open.csv\")\n",
    "High.to_csv(\"fix_555_High.csv\")\n",
    "Low.to_csv(\"fix_555_Low.csv\")\n",
    "Close.to_csv(\"fix_555_Close.csv\")\n",
    "Money.to_csv(\"fix_555_Money.csv\")\n",
    "Volume.to_csv(\"fix_555_Volume.csv\")"
   ]
  },
  {
   "cell_type": "markdown",
   "id": "001cef1b",
   "metadata": {},
   "source": [
    "# 再进行na的填充，用最新一条非na的值填充所有的na"
   ]
  },
  {
   "cell_type": "code",
   "execution_count": 7,
   "id": "4a34607f",
   "metadata": {},
   "outputs": [],
   "source": [
    "from tqdm import trange\n",
    "\n",
    "\n",
    "def fix_na_in_df(df):#如果a行b列的值为na,用b列里离a行最近的非na值代替na，要求该非na的值的索引在a行之前\n",
    "    #for d in trange(len(df.index)):#电脑卡死\n",
    "    for d in range(len(df.index)):\n",
    "        for futures in df.columns:\n",
    "            today_index=Close.index[d]\n",
    "            yesterday_index=Close.index[d-1]\n",
    "            if str(df.loc[today_index,futures])=='nan' and yesterday_index!= df.index[-1] and str(df.loc[yesterday_index,futures])!='nan':\n",
    "                df.loc[today_index,futures]=df.loc[yesterday_index,futures]\n",
    "        \n",
    "    return df\n"
   ]
  },
  {
   "cell_type": "code",
   "execution_count": 8,
   "id": "57c4378b",
   "metadata": {},
   "outputs": [],
   "source": [
    "from tqdm import trange\n",
    "\n",
    "\n",
    "def fix_na_in_money_and_volume(df):#如果a行b列的值为na,用b列里离a行最近的非na值代替na，要求该非na的值的索引在a行之前\n",
    "    #for d in trange(len(df.index)):#电脑卡死\n",
    "    for d in range(len(df.index)):\n",
    "        for futures in df.columns:\n",
    "            today_index=Close.index[d]\n",
    "            yesterday_index=Close.index[d-1]\n",
    "            if str(df.loc[today_index,futures])=='nan' and yesterday_index!= df.index[-1] and str(df.loc[yesterday_index,futures])!='nan':\n",
    "                df.loc[today_index,futures]=0\n",
    "        \n",
    "    return df\n"
   ]
  },
  {
   "cell_type": "code",
   "execution_count": 9,
   "id": "373af2eb",
   "metadata": {},
   "outputs": [],
   "source": [
    "Open=fix_na_in_df(Open)\n",
    "High=fix_na_in_df(High)\n",
    "Low=fix_na_in_df(Low)\n",
    "Close=fix_na_in_df(Close)\n",
    "Volume=fix_na_in_money_and_volume(Volume)\n",
    "Money=fix_na_in_money_and_volume(Money)"
   ]
  },
  {
   "cell_type": "markdown",
   "id": "cfb2075f",
   "metadata": {},
   "source": [
    "# 写入硬盘备用"
   ]
  },
  {
   "cell_type": "code",
   "execution_count": 10,
   "id": "7f9afccc",
   "metadata": {},
   "outputs": [],
   "source": [
    "Open.to_csv(\"Open.csv\")\n",
    "High.to_csv(\"High.csv\")\n",
    "Low.to_csv(\"Low.csv\")\n",
    "Close.to_csv(\"Close.csv\")\n",
    "Money.to_csv(\"Money.csv\")\n",
    "Volume.to_csv(\"Volume.csv\")"
   ]
  },
  {
   "cell_type": "code",
   "execution_count": null,
   "id": "55d2b667",
   "metadata": {},
   "outputs": [],
   "source": []
  }
 ],
 "metadata": {
  "kernelspec": {
   "display_name": "Python 3 (ipykernel)",
   "language": "python",
   "name": "python3"
  },
  "language_info": {
   "codemirror_mode": {
    "name": "ipython",
    "version": 3
   },
   "file_extension": ".py",
   "mimetype": "text/x-python",
   "name": "python",
   "nbconvert_exporter": "python",
   "pygments_lexer": "ipython3",
   "version": "3.8.8"
  }
 },
 "nbformat": 4,
 "nbformat_minor": 5
}
